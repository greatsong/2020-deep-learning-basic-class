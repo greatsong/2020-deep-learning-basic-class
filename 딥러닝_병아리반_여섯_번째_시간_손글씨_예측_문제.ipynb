{
  "nbformat": 4,
  "nbformat_minor": 0,
  "metadata": {
    "colab": {
      "name": "딥러닝 병아리반 여섯 번째 시간 - 손글씨 예측 문제.ipynb",
      "provenance": [],
      "include_colab_link": true
    },
    "kernelspec": {
      "display_name": "Python 3",
      "language": "python",
      "name": "python3"
    },
    "language_info": {
      "codemirror_mode": {
        "name": "ipython",
        "version": 3
      },
      "file_extension": ".py",
      "mimetype": "text/x-python",
      "name": "python",
      "nbconvert_exporter": "python",
      "pygments_lexer": "ipython3",
      "version": "3.6.3"
    }
  },
  "cells": [
    {
      "cell_type": "markdown",
      "metadata": {
        "id": "view-in-github",
        "colab_type": "text"
      },
      "source": [
        "<a href=\"https://colab.research.google.com/github/greatsong/2020-deep-learning-basic-class/blob/master/%E1%84%83%E1%85%B5%E1%86%B8%E1%84%85%E1%85%A5%E1%84%82%E1%85%B5%E1%86%BC_%E1%84%87%E1%85%A7%E1%86%BC%E1%84%8B%E1%85%A1%E1%84%85%E1%85%B5%E1%84%87%E1%85%A1%E1%86%AB_%E1%84%8B%E1%85%A7%E1%84%89%E1%85%A5%E1%86%BA_%E1%84%87%E1%85%A5%E1%86%AB%E1%84%8D%E1%85%A2_%E1%84%89%E1%85%B5%E1%84%80%E1%85%A1%E1%86%AB_%E1%84%89%E1%85%A9%E1%86%AB%E1%84%80%E1%85%B3%E1%86%AF%E1%84%8A%E1%85%B5_%E1%84%8B%E1%85%A8%E1%84%8E%E1%85%B3%E1%86%A8_%E1%84%86%E1%85%AE%E1%86%AB%E1%84%8C%E1%85%A6.ipynb\" target=\"_parent\"><img src=\"https://colab.research.google.com/assets/colab-badge.svg\" alt=\"Open In Colab\"/></a>"
      ]
    },
    {
      "cell_type": "code",
      "metadata": {
        "colab_type": "code",
        "id": "A4X33nH3ov6r",
        "colab": {}
      },
      "source": [
        "# tensorflow 라이브러리 설치\n",
        "!pip install tensorflow"
      ],
      "execution_count": 0,
      "outputs": []
    },
    {
      "cell_type": "code",
      "metadata": {
        "colab_type": "code",
        "id": "J_rbsmqHslRm",
        "colab": {}
      },
      "source": [
        "# 딥러닝 관련 라이브러리 불러오기\n",
        "import tensorflow as tf\n",
        "from tensorflow import keras\n",
        "import numpy as np\n",
        "import matplotlib.pyplot as plt"
      ],
      "execution_count": 0,
      "outputs": []
    },
    {
      "cell_type": "code",
      "metadata": {
        "colab_type": "code",
        "id": "ddoqjcwwtrjY",
        "colab": {}
      },
      "source": [
        "# MNIST 데이터셋 불러오기\n",
        "mnist = keras.datasets.mnist"
      ],
      "execution_count": 0,
      "outputs": []
    },
    {
      "cell_type": "code",
      "metadata": {
        "colab_type": "code",
        "id": "goIYlOeOtM5h",
        "colab": {}
      },
      "source": [
        "# MNIST 데이터셋 학습용(x,y), 테스트용(x,y)으로 나누기\n",
        "(x_train, y_train), (x_test, y_test) = mnist.load_data()"
      ],
      "execution_count": 0,
      "outputs": []
    },
    {
      "cell_type": "code",
      "metadata": {
        "id": "GsESXMjI3s26",
        "colab_type": "code",
        "colab": {}
      },
      "source": [
        "# 학습용 데이터 형태 살펴보기\n",
        "x_train.shape"
      ],
      "execution_count": 0,
      "outputs": []
    },
    {
      "cell_type": "code",
      "metadata": {
        "colab_type": "code",
        "id": "GrBJTI5mcsVc",
        "colab": {}
      },
      "source": [
        "# 학습용 첫 번째 데이터 살펴보기1\n",
        "x_train[0]"
      ],
      "execution_count": 0,
      "outputs": []
    },
    {
      "cell_type": "code",
      "metadata": {
        "colab_type": "code",
        "id": "MYxcT6_tdvUT",
        "colab": {}
      },
      "source": [
        "# 학습용 첫 번째 데이터 살펴보기2\n",
        "y_train[0]"
      ],
      "execution_count": 0,
      "outputs": []
    },
    {
      "cell_type": "code",
      "metadata": {
        "colab_type": "code",
        "id": "GGLWvpV0yE5N",
        "colab": {}
      },
      "source": [
        "# 데이터 전처리(0 ~ 1 사이 숫자로)\n",
        "x_train = x_train / 255\n",
        "x_test = x_test / 255"
      ],
      "execution_count": 0,
      "outputs": []
    },
    {
      "cell_type": "code",
      "metadata": {
        "id": "7L302ISD3s3U",
        "colab_type": "code",
        "colab": {}
      },
      "source": [
        "# 데이터 전처리 결과 확인\n",
        "x_train[0]"
      ],
      "execution_count": 0,
      "outputs": []
    },
    {
      "cell_type": "code",
      "metadata": {
        "colab_type": "code",
        "id": "QfZcENjhu3FH",
        "colab": {}
      },
      "source": [
        "# 모델 만들기 : 입력층(784) - 은닉층1(256) - 은닉층2(128) - 은닉층3(64) - 출력층(10)\n",
        "model = keras.models.Sequential([\n",
        "    keras.layers.Flatten(input_shape = (28, 28)),\n",
        "    keras.layers.Dense(256, activation = 'relu'),\n",
        "    keras.layers.Dense(128, activation = 'relu'),\n",
        "    keras.layers.Dense(64, activation = 'relu'),\n",
        "    keras.layers.Dense(10, activation = 'softmax') # 확률 출력해준다\n",
        "])"
      ],
      "execution_count": 0,
      "outputs": []
    },
    {
      "cell_type": "code",
      "metadata": {
        "colab_type": "code",
        "id": "PtPUWQdiwmgf",
        "colab": {}
      },
      "source": [
        "# 모델 컴파일 : 최적화 함수, 손실 함수 설정 + 평가 지표 설정 + 가중치 초기화)\n",
        "model.compile(optimizer = 'adam', loss = 'sparse_categorical_crossentropy', metrics = ['accuracy'])"
      ],
      "execution_count": 0,
      "outputs": []
    },
    {
      "cell_type": "code",
      "metadata": {
        "colab_type": "code",
        "id": "6o1dBpNnxlFI",
        "colab": {}
      },
      "source": [
        "# 모델 확인\n",
        "model.summary()"
      ],
      "execution_count": 0,
      "outputs": []
    },
    {
      "cell_type": "code",
      "metadata": {
        "colab_type": "code",
        "id": "mxfdZ3-3xmk4",
        "colab": {}
      },
      "source": [
        "# 모델 학습 : 전체 데이터는 5번 반복\n",
        "model.fit(x_train, y_train, epochs = 5)"
      ],
      "execution_count": 0,
      "outputs": []
    },
    {
      "cell_type": "code",
      "metadata": {
        "colab_type": "code",
        "id": "27hf2G5ux1Cg",
        "colab": {}
      },
      "source": [
        "# 모델 평가\n",
        "model.evaluate(x_test, y_test)"
      ],
      "execution_count": 0,
      "outputs": []
    },
    {
      "cell_type": "code",
      "metadata": {
        "id": "bse5cskF3s3u",
        "colab_type": "code",
        "colab": {}
      },
      "source": [
        "# 예측 - 0번째 숫자 이미지로 보기\n",
        "plt.imshow(x_train[0], cmap='gray')\n",
        "plt.show()"
      ],
      "execution_count": 0,
      "outputs": []
    },
    {
      "cell_type": "code",
      "metadata": {
        "id": "hy57Bdc33s32",
        "colab_type": "code",
        "colab": {}
      },
      "source": [
        "# 예측 - 0번째 숫자 예측하기1\n",
        "print(model.predict(x_train[0].reshape(1, 28, 28)))"
      ],
      "execution_count": 0,
      "outputs": []
    },
    {
      "cell_type": "code",
      "metadata": {
        "id": "ivBAQTYq3s35",
        "colab_type": "code",
        "colab": {}
      },
      "source": [
        "# 예측 - 0번째 숫자 예측하기1\n",
        "print(np.argmax(model.predict(x_train[0].reshape(1, 28, 28))))"
      ],
      "execution_count": 0,
      "outputs": []
    },
    {
      "cell_type": "code",
      "metadata": {
        "id": "TCtW_kp83s3-",
        "colab_type": "code",
        "colab": {}
      },
      "source": [
        ""
      ],
      "execution_count": 0,
      "outputs": []
    }
  ]
}